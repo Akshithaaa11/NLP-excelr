{
  "nbformat": 4,
  "nbformat_minor": 0,
  "metadata": {
    "colab": {
      "provenance": [],
      "authorship_tag": "ABX9TyOcVIm/HszMs2WOwXKtLotA",
      "include_colab_link": true
    },
    "kernelspec": {
      "name": "python3",
      "display_name": "Python 3"
    },
    "language_info": {
      "name": "python"
    }
  },
  "cells": [
    {
      "cell_type": "markdown",
      "metadata": {
        "id": "view-in-github",
        "colab_type": "text"
      },
      "source": [
        "<a href=\"https://colab.research.google.com/github/Akshithaaa11/NLP-excelr/blob/main/File_upload_Boto3.ipynb\" target=\"_parent\"><img src=\"https://colab.research.google.com/assets/colab-badge.svg\" alt=\"Open In Colab\"/></a>"
      ]
    },
    {
      "cell_type": "code",
      "execution_count": 1,
      "metadata": {
        "id": "V73V-kqWQREw",
        "colab": {
          "base_uri": "https://localhost:8080/"
        },
        "outputId": "50c199bc-b879-416f-f194-77689ba1eb7d"
      },
      "outputs": [
        {
          "output_type": "stream",
          "name": "stdout",
          "text": [
            "Collecting boto3\n",
            "  Downloading boto3-1.37.17-py3-none-any.whl.metadata (6.7 kB)\n",
            "Collecting botocore<1.38.0,>=1.37.17 (from boto3)\n",
            "  Downloading botocore-1.37.17-py3-none-any.whl.metadata (5.7 kB)\n",
            "Collecting jmespath<2.0.0,>=0.7.1 (from boto3)\n",
            "  Downloading jmespath-1.0.1-py3-none-any.whl.metadata (7.6 kB)\n",
            "Collecting s3transfer<0.12.0,>=0.11.0 (from boto3)\n",
            "  Downloading s3transfer-0.11.4-py3-none-any.whl.metadata (1.7 kB)\n",
            "Requirement already satisfied: python-dateutil<3.0.0,>=2.1 in /usr/local/lib/python3.11/dist-packages (from botocore<1.38.0,>=1.37.17->boto3) (2.8.2)\n",
            "Requirement already satisfied: urllib3!=2.2.0,<3,>=1.25.4 in /usr/local/lib/python3.11/dist-packages (from botocore<1.38.0,>=1.37.17->boto3) (2.3.0)\n",
            "Requirement already satisfied: six>=1.5 in /usr/local/lib/python3.11/dist-packages (from python-dateutil<3.0.0,>=2.1->botocore<1.38.0,>=1.37.17->boto3) (1.17.0)\n",
            "Downloading boto3-1.37.17-py3-none-any.whl (139 kB)\n",
            "\u001b[2K   \u001b[90m━━━━━━━━━━━━━━━━━━━━━━━━━━━━━━━━━━━━━━━━\u001b[0m \u001b[32m139.6/139.6 kB\u001b[0m \u001b[31m6.7 MB/s\u001b[0m eta \u001b[36m0:00:00\u001b[0m\n",
            "\u001b[?25hDownloading botocore-1.37.17-py3-none-any.whl (13.4 MB)\n",
            "\u001b[2K   \u001b[90m━━━━━━━━━━━━━━━━━━━━━━━━━━━━━━━━━━━━━━━━\u001b[0m \u001b[32m13.4/13.4 MB\u001b[0m \u001b[31m65.1 MB/s\u001b[0m eta \u001b[36m0:00:00\u001b[0m\n",
            "\u001b[?25hDownloading jmespath-1.0.1-py3-none-any.whl (20 kB)\n",
            "Downloading s3transfer-0.11.4-py3-none-any.whl (84 kB)\n",
            "\u001b[2K   \u001b[90m━━━━━━━━━━━━━━━━━━━━━━━━━━━━━━━━━━━━━━━━\u001b[0m \u001b[32m84.4/84.4 kB\u001b[0m \u001b[31m5.7 MB/s\u001b[0m eta \u001b[36m0:00:00\u001b[0m\n",
            "\u001b[?25hInstalling collected packages: jmespath, botocore, s3transfer, boto3\n",
            "Successfully installed boto3-1.37.17 botocore-1.37.17 jmespath-1.0.1 s3transfer-0.11.4\n"
          ]
        }
      ],
      "source": [
        "pip install boto3"
      ]
    },
    {
      "cell_type": "code",
      "source": [
        "import boto3\n",
        "s3=boto3.client(\"s3\")"
      ],
      "metadata": {
        "id": "yikTAkEtZ-fl"
      },
      "execution_count": 2,
      "outputs": []
    },
    {
      "cell_type": "code",
      "source": [
        "import boto3\n",
        "s3=boto3.client(\"s3\")"
      ],
      "metadata": {
        "id": "lcFrqkOVbAiT"
      },
      "execution_count": 3,
      "outputs": []
    },
    {
      "cell_type": "code",
      "source": [
        "bucket_name=\"mynlpmru\"\n",
        "s3.create_bucket(\n",
        "    Bucket=bucket_name,\n",
        "    CreateBucketConfiguration={\"LocationConstraint\":\"eu-north-1\"}\n",
        ")\n",
        "print(f\"Bucket '{bucket_name}' created successfully!\")"
      ],
      "metadata": {
        "id": "c-q4n1q4bHQy"
      },
      "execution_count": 5,
      "outputs": []
    },
    {
      "cell_type": "code",
      "source": [
        "response=s3.list_buckets()\n",
        "print(\"Existing Buckets:\")\n",
        "for bucket in response[\"Buckets\"]:\n",
        "  print(f\"- {bucket['Name']}\")"
      ],
      "metadata": {
        "id": "KrTkrP6YcIct"
      },
      "execution_count": null,
      "outputs": []
    },
    {
      "cell_type": "code",
      "source": [
        "s3.upload_file(\"text.tct\", \"mynlpmru\", \"data/testfile1.txt\")\n",
        "print(\"Upload completed!\")"
      ],
      "metadata": {
        "id": "nQ9PVHJSiMEO"
      },
      "execution_count": null,
      "outputs": []
    },
    {
      "cell_type": "code",
      "source": [
        "s3.upload_file(\"mynlpmru\", \"data/testfile1.txt\", \"download_test3.txt\")\n",
        "print(\"Download completed!\")"
      ],
      "metadata": {
        "id": "fBckEqmbiRoO"
      },
      "execution_count": null,
      "outputs": []
    },
    {
      "cell_type": "code",
      "source": [
        "response = s3.list_objects_v2(Bucket=\"mynlpmru2003\")\n",
        "print(\"File in bucket:\")\n",
        "if \"contents\" in response:\n",
        "    for obj in response[\"Contents\"]:\n",
        "        print(f\"-{obj['key']}(Size:{obj['Size']}bytes)\")\n",
        "        else:\n",
        "            print(\"Bucket is empty\")"
      ],
      "metadata": {
        "id": "YdPV-lUbiUsi"
      },
      "execution_count": null,
      "outputs": []
    },
    {
      "cell_type": "code",
      "source": [
        "s3.delete_object(Bucket=\"mynlpmru\",Key=\"test.txt\")\n",
        "print(\"file deleted successfully\")"
      ],
      "metadata": {
        "id": "8VF3Vstvg9l_"
      },
      "execution_count": null,
      "outputs": []
    },
    {
      "cell_type": "code",
      "source": [
        "s3.put_bucket_versioning(\n",
        "    Bucket=\"mynlpmru\",\n",
        "    VersioningConfiguration={\"Status\":\"Enabled\"}\n",
        "    )\n",
        "print(\"versioning enabled\")"
      ],
      "metadata": {
        "id": "U_M_4-pgh9vA"
      },
      "execution_count": null,
      "outputs": []
    },
    {
      "cell_type": "code",
      "source": [
        "copy_source={\"Bucket\":\"mynlpmru\",\"key\":\"data/testfile.txt\"}\n",
        "s3.copy_object(CopySource=copy_source,Bucket=\"mynlpmru\",key=\"data/copied_testfile3.txt\")\n",
        "print(\"file copied successfully\")"
      ],
      "metadata": {
        "id": "aGz5YjrPigPJ"
      },
      "execution_count": null,
      "outputs": []
    }
  ]
}