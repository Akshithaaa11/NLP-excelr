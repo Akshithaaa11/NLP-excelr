{
  "nbformat": 4,
  "nbformat_minor": 0,
  "metadata": {
    "colab": {
      "provenance": [],
      "authorship_tag": "ABX9TyPRhwMGxRwj0QOk9i3VLBe2",
      "include_colab_link": true
    },
    "kernelspec": {
      "name": "python3",
      "display_name": "Python 3"
    },
    "language_info": {
      "name": "python"
    }
  },
  "cells": [
    {
      "cell_type": "markdown",
      "metadata": {
        "id": "view-in-github",
        "colab_type": "text"
      },
      "source": [
        "<a href=\"https://colab.research.google.com/github/Akshithaaa11/NLP-excelr/blob/main/Gemini_AI_Image_Analysis.ipynb\" target=\"_parent\"><img src=\"https://colab.research.google.com/assets/colab-badge.svg\" alt=\"Open In Colab\"/></a>"
      ]
    },
    {
      "cell_type": "code",
      "execution_count": 1,
      "metadata": {
        "id": "7usvhq_O-GBG"
      },
      "outputs": [],
      "source": [
        "import google.generativeai as genai\n",
        "from google.colab import userdata\n",
        "GOOGLE_API_KEY=userdata.get('GOOGLE_API_KEY')\n",
        "genai.configure(api_key=GOOGLE_API_KEY)"
      ]
    },
    {
      "cell_type": "code",
      "source": [
        "import pathlib\n",
        "import textwrap\n",
        "from IPython.display import Markdown, display\n",
        "def to_markdown(text):\n",
        "  text=text.replace('.','*')\n",
        "  return Markdown(textwrap.indent(text,'> ',predicate=lambda _:True))"
      ],
      "metadata": {
        "id": "5cOiPFf8-gm_"
      },
      "execution_count": 3,
      "outputs": []
    },
    {
      "cell_type": "code",
      "source": [
        "import PIL.Image\n",
        "img=PIL.Image.open('/content/Image20250311122528.jpg')\n",
        "img\n",
        "model=genai.GenerativeModel('gemini-1.5-flash')\n",
        "response=model.generate_content([\"Write a short,engaging blog post based on this picture.\\nIt should include a description of the meal in the photo and talk about my journey meal prepping.\", img],\n",
        "stream=True)\n",
        "response.resolve()"
      ],
      "metadata": {
        "id": "IxdKzIDO_E4J"
      },
      "execution_count": 5,
      "outputs": []
    },
    {
      "cell_type": "code",
      "source": [
        "to_markdown(response.text)"
      ],
      "metadata": {
        "colab": {
          "base_uri": "https://localhost:8080/",
          "height": 289
        },
        "id": "QyoS3PIvAxHP",
        "outputId": "a14fb6b3-f0c2-4c8c-b62c-4128e825ceeb"
      },
      "execution_count": 6,
      "outputs": [
        {
          "output_type": "execute_result",
          "data": {
            "text/plain": [
              "<IPython.core.display.Markdown object>"
            ],
            "text/markdown": "> ## My Meal Prep Journey: From Chaos to Deliciousness!\n> \n> Look at these beauties!  These aren't just any takeout containers; they're my proudest creations – perfectly portioned containers of deliciousness, ready to fuel my week*  Each one is packed with fluffy white rice, tender chicken stir-fry, vibrant orange and red peppers, and a healthy dose of broccoli* It's a colorful explosion of flavor and nutrition, all made in one glorious meal prep session!\n> \n> My journey with meal prepping hasn't always been smooth sailing*  Initially, it felt overwhelming* I'd start with grand plans, only to end up with sad wilting vegetables and a fridge full of unfinished containers*  The key, I discovered, wasn't some magical organizational technique, but rather a slow, gradual process of refining my approach*\n> \n> I started small, focusing on just one or two meals a week* I chose simple recipes with minimal ingredients, and gradually increased the complexity as my confidence grew* The biggest breakthrough was learning to embrace leftovers!  Cooking in bulk allows me to create several portions with ease*\n> \n> Now, meal prepping isn't just a chore; it's my secret weapon against unhealthy eating habits*  It saves me time, money, and keeps me on track with my fitness goals* Plus, nothing beats the satisfaction of knowing exactly what's in my food – and how delicious it is!  What are your favourite meal prep hacks? Let me know in the comments below!\n"
          },
          "metadata": {},
          "execution_count": 6
        }
      ]
    },
    {
      "cell_type": "code",
      "source": [
        "response = model.generate_content([\"Generate an accurate caption for this image.\",img])\n",
        "print(response.text)"
      ],
      "metadata": {
        "colab": {
          "base_uri": "https://localhost:8080/",
          "height": 381
        },
        "id": "YyVI0V4hBHqh",
        "outputId": "1e4009be-df3e-4041-bf1c-abe7fa88551d"
      },
      "execution_count": 7,
      "outputs": [
        {
          "output_type": "stream",
          "name": "stdout",
          "text": [
            "Here are a few caption options for the image of two glass containers filled with rice, chicken, broccoli, and carrots:\n",
            "\n",
            "**Option 1 (Simple & Direct):**\n",
            "\n",
            "> Healthy and delicious meal prep!  Chicken and broccoli with rice.\n",
            "\n",
            "**Option 2 (More Descriptive):**\n",
            "\n",
            "> Two perfectly portioned meals ready to go!  This teriyaki chicken and veggie bowl is packed with protein and flavor.\n",
            "\n",
            "**Option 3 (Focus on Convenience):**\n",
            "\n",
            "> Easy weeknight dinners made simple with this meal prep idea.  Chicken, broccoli, carrots, and rice - all the goodness in one container.\n",
            "\n",
            "**Option 4 (Question to Engage):**\n",
            "\n",
            "> What's your favorite healthy meal prep recipe?  This chicken and veggie bowl is a top contender!\n",
            "\n",
            "\n",
            "Choose the caption that best suits your needs and intended audience.\n",
            "\n"
          ]
        }
      ]
    },
    {
      "cell_type": "code",
      "source": [
        "from PIL import Image\n",
        "image_path = \"/content/Image20250311125043.jpg\"\n",
        "image = Image.open(image_path)\n",
        "response = model.generate_content([\"Describe this image in detail.\", image])\n",
        "print(response.text)"
      ],
      "metadata": {
        "colab": {
          "base_uri": "https://localhost:8080/",
          "height": 263
        },
        "id": "XKTeBqyJDCY5",
        "outputId": "15c285ab-9067-4757-f98e-58d0e06546a1"
      },
      "execution_count": 9,
      "outputs": [
        {
          "output_type": "stream",
          "name": "stdout",
          "text": [
            "Here's a description of the image:\n",
            "\n",
            "Close-up view of a woman with medium-length, curly brown hair. \n",
            "\n",
            "\n",
            "She is smiling and gesturing with her right index finger, as if pointing to something off-camera. Her expression is friendly and engaging. \n",
            "\n",
            "\n",
            "She's wearing a teal or turquoise three-quarter-sleeved top with a subtle gold print or pattern. The top has a simple, slightly open neckline. Her arms are folded across her chest, and one arm is slightly more prominent because of the pointing gesture. \n",
            "\n",
            "\n",
            "The background is plain white, which makes the woman and her clothing stand out clearly. The overall lighting is soft and even, minimizing harsh shadows. The image appears to be a portrait shot, likely taken against a studio backdrop.\n",
            "\n"
          ]
        }
      ]
    },
    {
      "cell_type": "code",
      "source": [
        "response = model.generate_content([\"what emotions can you detect in this image?, image\"])\n",
        "print(response.text)"
      ],
      "metadata": {
        "colab": {
          "base_uri": "https://localhost:8080/",
          "height": 52
        },
        "id": "BdqLdpRYFcuq",
        "outputId": "6af66d7b-fb2b-4b2b-bd4f-3109b4274b11"
      },
      "execution_count": 10,
      "outputs": [
        {
          "output_type": "stream",
          "name": "stdout",
          "text": [
            "Please provide the image. I need to see the image to detect the emotions present within it.\n",
            "\n"
          ]
        }
      ]
    },
    {
      "cell_type": "code",
      "source": [],
      "metadata": {
        "id": "AYNjdrTwGOhQ"
      },
      "execution_count": null,
      "outputs": []
    }
  ]
}