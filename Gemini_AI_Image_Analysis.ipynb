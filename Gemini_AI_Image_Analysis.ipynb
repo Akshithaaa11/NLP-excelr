{
  "nbformat": 4,
  "nbformat_minor": 0,
  "metadata": {
    "colab": {
      "provenance": [],
      "authorship_tag": "ABX9TyM8+1CJjToGGJqQTwAL3A9Z",
      "include_colab_link": true
    },
    "kernelspec": {
      "name": "python3",
      "display_name": "Python 3"
    },
    "language_info": {
      "name": "python"
    }
  },
  "cells": [
    {
      "cell_type": "markdown",
      "metadata": {
        "id": "view-in-github",
        "colab_type": "text"
      },
      "source": [
        "<a href=\"https://colab.research.google.com/github/Akshithaaa11/NLP-excelr/blob/main/Gemini_AI_Image_Analysis.ipynb\" target=\"_parent\"><img src=\"https://colab.research.google.com/assets/colab-badge.svg\" alt=\"Open In Colab\"/></a>"
      ]
    },
    {
      "cell_type": "code",
      "execution_count": 1,
      "metadata": {
        "id": "7usvhq_O-GBG"
      },
      "outputs": [],
      "source": [
        "import google.generativeai as genai\n",
        "from google.colab import userdata\n",
        "GOOGLE_API_KEY=userdata.get('GOOGLE_API_KEY')\n",
        "genai.configure(api_key=GOOGLE_API_KEY)"
      ]
    },
    {
      "cell_type": "code",
      "source": [
        "import pathlib\n",
        "import textwrap\n",
        "from IPython.display import Markdown, display\n",
        "def to_markdown(text):\n",
        "  text=text.replace('.','*')\n",
        "  return Markdown(textwrap.indent(text,'> ',predicate=lambda _:True))"
      ],
      "metadata": {
        "id": "5cOiPFf8-gm_"
      },
      "execution_count": 2,
      "outputs": []
    },
    {
      "cell_type": "code",
      "source": [
        "import PIL.Image\n",
        "img=PIL.Image.open('/content/Image20250311122528.jpg')\n",
        "img\n",
        "model=genai.GenerativeModel('gemini-1.5-flash')\n",
        "response=model.generate_content([\"Write a short,engaging blog post based on this picture.\\nIt should include a description of the meal in the photo and talk about my journey meal prepping.\", img],\n",
        "stream=True)\n",
        "response.resolve()"
      ],
      "metadata": {
        "id": "IxdKzIDO_E4J"
      },
      "execution_count": 4,
      "outputs": []
    },
    {
      "cell_type": "code",
      "source": [
        "to_markdown(response.text)"
      ],
      "metadata": {
        "colab": {
          "base_uri": "https://localhost:8080/",
          "height": 454
        },
        "id": "QyoS3PIvAxHP",
        "outputId": "e5b87052-fd74-48b3-b30c-eb337277b211"
      },
      "execution_count": 5,
      "outputs": [
        {
          "output_type": "execute_result",
          "data": {
            "text/plain": [
              "<IPython.core.display.Markdown object>"
            ],
            "text/markdown": "> ## My Meal Prep Journey: From Chaos to Colorful Containers!\n> \n> Let's be honest, meal prepping used to be a mythical creature in my life – something I *wanted* to do, but never seemed to have the time or energy for*  My lunches were a sad rotation of takeout and questionable leftovers*  Then, something clicked*  I decided to tackle meal prepping, and the results have been surprisingly delicious and stress-relieving!\n> \n> \n> This picture showcases the fruits (or should I say, *veggies*!) of my labor*  Two perfectly portioned containers brimming with a vibrant teriyaki chicken and veggie bowl* Fluffy white rice forms a comforting base, topped with tender chicken, vibrant orange and red peppers, and a generous helping of healthy broccoli florets*  It’s the kind of meal that’s both satisfying and makes me feel good about my food choices*\n> \n> \n> My journey hasn't been without its bumps!  Initially, I tried to tackle too much at once, leading to a fridge overflowing with slightly soggy salads and forgotten containers*  But I learned to start small – one or two meals at a time – and to focus on recipes that I genuinely enjoy*  Finding reusable containers that are microwave and freezer safe has been a game changer, too!\n> \n> \n> Now, meal prepping is a relaxing weekend ritual*  It's about taking control of my nutrition and ensuring I have healthy, delicious lunches and dinners ready to go, no matter how busy my week gets*  It saves money, reduces food waste, and honestly, just makes me feel more organized and in control*  If I can do it, so can you!  What are your favorite meal prep tips? Share them in the comments below!\n"
          },
          "metadata": {},
          "execution_count": 5
        }
      ]
    },
    {
      "cell_type": "code",
      "source": [
        "response = model.generate_content([\"Generate an accurate caption for this image.\",img])\n",
        "print(response.text)"
      ],
      "metadata": {
        "colab": {
          "base_uri": "https://localhost:8080/",
          "height": 401
        },
        "id": "YyVI0V4hBHqh",
        "outputId": "281cb927-4eb4-4e22-f321-6663b57d8bde"
      },
      "execution_count": 6,
      "outputs": [
        {
          "output_type": "stream",
          "name": "stdout",
          "text": [
            "Here are a few caption options for the image:\n",
            "\n",
            "**Option 1 (Simple & descriptive):**\n",
            "\n",
            "> Healthy and delicious meal prep!  Chicken and broccoli with rice.\n",
            "\n",
            "**Option 2 (More engaging):**\n",
            "\n",
            "> Lunch goals!  These teriyaki chicken and veggie bowls are ready to go. Perfect for busy weekdays. #mealprep #healthyfood #lunchideas\n",
            "\n",
            "**Option 3 (Focus on ease):**\n",
            "\n",
            "> Easy weeknight dinners just got easier!  Grab and go meal prep containers make healthy eating a breeze.\n",
            "\n",
            "**Option 4 (Question to engage audience):**\n",
            "\n",
            "> What's your favorite meal prep recipe?  This teriyaki chicken and broccoli is definitely a contender! #mealprepsunday #healthylifestyle\n",
            "\n",
            "\n",
            "Choose the caption that best fits the overall tone and purpose of your post.\n",
            "\n"
          ]
        }
      ]
    },
    {
      "cell_type": "code",
      "source": [
        "from PIL import Image\n",
        "image_path = \"/content/Image20250311125043.jpg\"\n",
        "image = Image.open(image_path)\n",
        "response = model.generate_content([\"Describe this image in detail.\", image])\n",
        "print(response.text)"
      ],
      "metadata": {
        "colab": {
          "base_uri": "https://localhost:8080/",
          "height": 211
        },
        "id": "XKTeBqyJDCY5",
        "outputId": "76a85bfa-07d6-40dc-bc83-524536f0731e"
      },
      "execution_count": 7,
      "outputs": [
        {
          "output_type": "stream",
          "name": "stdout",
          "text": [
            "Here's a description of the image:\n",
            "\n",
            "Close-up view of a woman with shoulder-length, curly brown hair. \n",
            "\n",
            "\n",
            "She is light-skinned and smiling, making direct eye contact with the viewer. She's wearing a teal, three-quarter-sleeved top or tunic with a subtle, repeating gold pattern. The top appears to be made of a soft, possibly cotton-like material. \n",
            "\n",
            "\n",
            "Her arms are crossed, and one hand is pointed to the side, suggesting a gesture of indicating something off-camera. She appears to be in a bright, well-lit space, against a plain white background.  Her expression is friendly and approachable. The overall impression is one of a cheerful and confident woman.\n",
            "\n"
          ]
        }
      ]
    },
    {
      "cell_type": "code",
      "source": [
        "response = model.generate_content([\"what emotions can you detect in this image?, image\"])\n",
        "print(response.text)"
      ],
      "metadata": {
        "colab": {
          "base_uri": "https://localhost:8080/",
          "height": 72
        },
        "id": "BdqLdpRYFcuq",
        "outputId": "6ea62115-4b49-4ad3-d762-645547daf6aa"
      },
      "execution_count": 8,
      "outputs": [
        {
          "output_type": "stream",
          "name": "stdout",
          "text": [
            "Please provide me with the image. I need to see the image to detect the emotions within it.  I cannot access local files or URLs.\n",
            "\n"
          ]
        }
      ]
    },
    {
      "cell_type": "code",
      "source": [
        "image_path=\"/content/Image20250313093726.jpg\"\n",
        "image=Image.open(image_path)\n",
        "response=model.generate_content([\"Identify the brand or company associated with this logo.\",image])\n",
        "print(response.text)"
      ],
      "metadata": {
        "id": "AYNjdrTwGOhQ",
        "colab": {
          "base_uri": "https://localhost:8080/",
          "height": 52
        },
        "outputId": "c608ccd6-5f5e-48f6-c778-99f42f3c0173"
      },
      "execution_count": 9,
      "outputs": [
        {
          "output_type": "stream",
          "name": "stdout",
          "text": [
            "That's the logo for **Amazon**.\n",
            "\n"
          ]
        }
      ]
    },
    {
      "cell_type": "code",
      "source": [
        "image_path=\"/content/Image20250313094253.jpg\"\n",
        "image=Image.open(image_path)\n",
        "response=model.generate_content([\"What product is shown in the image?\",image])\n",
        "print(response.text)"
      ],
      "metadata": {
        "colab": {
          "base_uri": "https://localhost:8080/",
          "height": 72
        },
        "id": "LrEDgkVfsK-Y",
        "outputId": "0cf9eb43-65c9-4f4b-ca76-6c35bf08300e"
      },
      "execution_count": 11,
      "outputs": [
        {
          "output_type": "stream",
          "name": "stdout",
          "text": [
            "That's a pair of black over-ear headphones.  They appear to be wireless, judging by the lack of visible wire.\n",
            "\n"
          ]
        }
      ]
    },
    {
      "cell_type": "code",
      "source": [
        "response=model.generate_content([\"Suggest similar products to this one\",image])\n",
        "print(response.text)"
      ],
      "metadata": {
        "colab": {
          "base_uri": "https://localhost:8080/",
          "height": 436
        },
        "id": "7VSaz9OitWkj",
        "outputId": "78b7446c-5134-42d0-c12d-958f74a54ec5"
      },
      "execution_count": 12,
      "outputs": [
        {
          "output_type": "stream",
          "name": "stdout",
          "text": [
            "Here are some similar products to the pictured black over-ear headphones.  To give you the best recommendations, I need more information about what aspects of the headphones are important to you.  However, I can offer some general suggestions based on the image:\n",
            "\n",
            "**Features to consider when choosing similar headphones:**\n",
            "\n",
            "* **Noise Cancellation:** Does the image show noise cancellation features (usually indicated by a small button or switch)? If so, look for similar headphones with this feature.\n",
            "* **Wireless or Wired:** Are these wireless headphones (requiring Bluetooth) or wired?  Specify this in your next request for more tailored results.\n",
            "* **Budget:** What is your price range? Headphones vary greatly in cost.\n",
            "* **Brand Preference:** Do you prefer a specific brand?\n",
            "* **Sound Quality:** Are you looking for specific audio characteristics (e.g., bass-heavy, balanced, detailed)?\n",
            "\n",
            "\n",
            "**General Similar Product Suggestions (assuming they are wireless, over-ear, and mid-range price):**\n",
            "\n",
            "These are broad categories; specific models vary widely within each:\n",
            "\n",
            "* **Sony WH-CH710N:**  Known for their comfortable fit and decent sound quality.  Often available at a reasonable price.\n",
            "* **Audio-Technica ATH-M50xBT2:** Popular choice for both studio monitoring and casual listening, known for clear and detailed audio.\n",
            "* **Bose QuietComfort 45:**  If noise-cancellation is a priority, these are a top contender.  (These tend to be on the pricier side).\n",
            "* **JBL Tune 760NC:** Another option with noise cancellation and a more affordable price point than the Bose.\n",
            "\n",
            "\n",
            "To get more specific recommendations, please provide more details about your needs and preferences.\n",
            "\n"
          ]
        }
      ]
    },
    {
      "cell_type": "code",
      "source": [
        "image_path=\"/content/Image20250313095119.jpg\"\n",
        "image=Image.open(image_path)\n",
        "response=model.generate_content([\"Extarct the price from this image.\",image])\n",
        "print(response.text)"
      ],
      "metadata": {
        "colab": {
          "base_uri": "https://localhost:8080/",
          "height": 54
        },
        "id": "ppEtymWDuncC",
        "outputId": "e10054be-4fdd-4d31-e0f4-95dfc3551823"
      },
      "execution_count": 13,
      "outputs": [
        {
          "output_type": "stream",
          "name": "stdout",
          "text": [
            "The price of each item is $10.00.  The subtotal is $100.00, and the grand total (including 10% tax) is also $100.00.\n"
          ]
        }
      ]
    },
    {
      "cell_type": "code",
      "source": [
        "response=model.generate_content([\"Extract the price,currency,and any discounts from this image.\",image])\n",
        "print(response.text)"
      ],
      "metadata": {
        "colab": {
          "base_uri": "https://localhost:8080/",
          "height": 124
        },
        "id": "YxvBZW2jvKEO",
        "outputId": "5ada2b4b-60a9-411b-8614-99694c1f48b4"
      },
      "execution_count": 14,
      "outputs": [
        {
          "output_type": "stream",
          "name": "stdout",
          "text": [
            "Here's the extracted information from the provided invoice image:\n",
            "\n",
            "* **Price:** $10.00 (for each item)\n",
            "* **Currency:** USD ($)\n",
            "* **Discounts:** None explicitly stated.  There is a 10% tax, but this is not a discount.\n"
          ]
        }
      ]
    },
    {
      "cell_type": "code",
      "source": [
        "image_path=\"/content/bicycle.jpg\"\n",
        "image=Image.open(image_path)\n",
        "response=model.generate_content([\"Identify all objects present in this image.\",image])\n",
        "print(response.text)"
      ],
      "metadata": {
        "colab": {
          "base_uri": "https://localhost:8080/",
          "height": 211
        },
        "id": "bHsrtXBewAR7",
        "outputId": "d848166d-11f8-43e4-c22c-ad494aa90337"
      },
      "execution_count": 15,
      "outputs": [
        {
          "output_type": "stream",
          "name": "stdout",
          "text": [
            "Here's a list of the objects present in the image:\n",
            "\n",
            "* **Two bicycles:** One is yellow and black, the other is white.\n",
            "* **Two men:**  Riding the bicycles. One is wearing a blue shirt and camouflage shorts, the other a gray shirt and jeans and a red cap.\n",
            "* **A motorcycle:** Parked on the left side of the image.\n",
            "* **A building:**  A building with a beige facade, a roller shutter door, and windows is visible in the background.\n",
            "* **Chairs:** Two plastic chairs can be seen inside the building.\n",
            "* **A man (in the background):** Sitting inside the building.\n",
            "* **Street:**  A wet street is visible, indicating it might be raining.\n",
            "* **Vegetation:** Some grass is visible on the side of the street.\n"
          ]
        }
      ]
    },
    {
      "cell_type": "code",
      "source": [],
      "metadata": {
        "id": "QYM0TFAqxGtj"
      },
      "execution_count": null,
      "outputs": []
    }
  ]
}