{
  "nbformat": 4,
  "nbformat_minor": 0,
  "metadata": {
    "colab": {
      "provenance": [],
      "authorship_tag": "ABX9TyMjRSjA5Mrgf//TCLP7VGpQ",
      "include_colab_link": true
    },
    "kernelspec": {
      "name": "python3",
      "display_name": "Python 3"
    },
    "language_info": {
      "name": "python"
    }
  },
  "cells": [
    {
      "cell_type": "markdown",
      "metadata": {
        "id": "view-in-github",
        "colab_type": "text"
      },
      "source": [
        "<a href=\"https://colab.research.google.com/github/Akshithaaa11/NLP-excelr/blob/main/Gemini_ai_pdf_health_report_analysis.ipynb\" target=\"_parent\"><img src=\"https://colab.research.google.com/assets/colab-badge.svg\" alt=\"Open In Colab\"/></a>"
      ]
    },
    {
      "cell_type": "code",
      "execution_count": 1,
      "metadata": {
        "id": "E80Wgopdf6U2"
      },
      "outputs": [],
      "source": [
        "from google.colab import userdata\n",
        "import google.generativeai as genai\n",
        "\n",
        "GOOGLE_API_KEY = userdata.get('GOOGLE_API_KEY')\n",
        "genai.configure(api_key=GOOGLE_API_KEY)"
      ]
    },
    {
      "cell_type": "code",
      "source": [
        "pip install PyPDF2"
      ],
      "metadata": {
        "colab": {
          "base_uri": "https://localhost:8080/"
        },
        "id": "l-Cq_avjgNTa",
        "outputId": "8e8c9ddf-46d0-492b-cb45-75ecd1057cf0"
      },
      "execution_count": 2,
      "outputs": [
        {
          "output_type": "stream",
          "name": "stdout",
          "text": [
            "Collecting PyPDF2\n",
            "  Downloading pypdf2-3.0.1-py3-none-any.whl.metadata (6.8 kB)\n",
            "Downloading pypdf2-3.0.1-py3-none-any.whl (232 kB)\n",
            "\u001b[2K   \u001b[90m━━━━━━━━━━━━━━━━━━━━━━━━━━━━━━━━━━━━━━━━\u001b[0m \u001b[32m232.6/232.6 kB\u001b[0m \u001b[31m3.3 MB/s\u001b[0m eta \u001b[36m0:00:00\u001b[0m\n",
            "\u001b[?25hInstalling collected packages: PyPDF2\n",
            "Successfully installed PyPDF2-3.0.1\n"
          ]
        }
      ]
    },
    {
      "cell_type": "code",
      "source": [
        "import PyPDF2\n",
        "def extract_text_from_pdf(pdf_path):\n",
        "    \"\"\"Extracts text from a given health report PDF using PyPDF2.\"\"\"\n",
        "    text = \"\"\n",
        "    with open(pdf_path, 'rb') as file:\n",
        "        reader = PyPDF2.PdfReader(file)\n",
        "        for page in reader.pages:\n",
        "            text += page.extract_text()+\"\\n\"\n",
        "    return text"
      ],
      "metadata": {
        "id": "YL989AH3gUF_"
      },
      "execution_count": 3,
      "outputs": []
    },
    {
      "cell_type": "code",
      "source": [
        "def extract_health_insights(text):\n",
        "  \"\"\"Asks Gemini AI to extract key medical insights from the report.\"\"\"\n",
        "  model=genai.GenerativeModel(\"gemini-1.5-flash\")\n",
        "  prompt=f\"Extarct key insights from the following health report:\\n\\n{text}\"\n",
        "  response=model.generate_content(prompt)\n",
        "  return response.text\n",
        "pdf_file=\"health_report.pdf\"\n",
        "extracted_text=extract_text_from_pdf(pdf_file)\n",
        "insights=extract_health_insights(extracted_text)\n",
        "print(\"Key Insights:\\n\",insights)"
      ],
      "metadata": {
        "colab": {
          "base_uri": "https://localhost:8080/",
          "height": 505
        },
        "id": "nJYK5fDwhObE",
        "outputId": "645d7b4b-2fdd-4a30-8321-c0429e3814b6"
      },
      "execution_count": 4,
      "outputs": [
        {
          "output_type": "stream",
          "name": "stdout",
          "text": [
            "Key Insights:\n",
            " Mr. Kishan Goud's (MR2100003157) health report from February 1st, 2021, reveals the following key insights:\n",
            "\n",
            "**Infections:**\n",
            "\n",
            "* **Widal Test:**  Elevated titers for *Salmonella Typhi* \"O\" (1:160) and \"H\" (1:80) suggest a possible past or recent infection with Typhoid fever.  The reference range is only 1:20, indicating a positive result.  Paratyphoid A and B titers were within the normal range (1:20).\n",
            "* **Dengue:**  Negative results for Dengue NS1 antigen, IgG, and IgM antibodies rule out a current or recent dengue fever infection.\n",
            "* **Malaria:** Negative rapid malaria tests for *Plasmodium vivax* and *Plasmodium falciparum* indicate the absence of malaria.\n",
            "\n",
            "**Inflammation and Blood Profile:**\n",
            "\n",
            "* **Erythrocyte Sedimentation Rate (ESR):** Elevated ESR (26 mm/hr in the first hour, 52 mm/hr in the second hour) suggests the presence of inflammation in the body.  This is significantly higher than the normal range (0-8 mm/hr).\n",
            "* **Complete Blood Picture (CBC):**  Hemoglobin, RBC, WBC, platelet count, and PCV are within normal ranges.  The differential count shows normal neutrophil, lymphocyte, eosinophil, monocyte, and basophil levels.  The peripheral blood smear description shows normal RBC, WBC, and platelets.\n",
            "\n",
            "**Metabolic Panel:**\n",
            "\n",
            "* **HbA1c:**  Within the normal non-diabetic range (5.4%), indicating good blood sugar control.\n",
            "* **Random Blood Glucose:**  Not provided in the report.\n",
            "* **Serum Creatinine:** Within the normal range (0.8 mg/dl), suggesting normal kidney function.\n",
            "* **Liver Function Tests (LFTs):** All liver enzymes (bilirubin, alkaline phosphatase, SGOT, SGPT) and total protein & albumin are within normal ranges, suggesting normal liver function.\n",
            "* **Serum Electrolytes:** Sodium is slightly low (122 mmol/l), while potassium and chloride are within normal limits.  The low sodium warrants further investigation.\n",
            "\n",
            "\n",
            "**Overall:**\n",
            "\n",
            "The most significant findings are the elevated Widal test titers suggesting past or present typhoid infection and the elevated ESR indicating inflammation. The low sodium level also requires further attention. The negative results for dengue and malaria are reassuring.  The other test results are generally within normal limits.  Further investigation is needed to determine the cause of the inflammation and low sodium.  The patient's physician should interpret these results in conjunction with clinical presentation and other relevant information.\n",
            "\n"
          ]
        }
      ]
    },
    {
      "cell_type": "code",
      "source": [
        "def summarize_health_report(text):\n",
        "    \"\"\"Summarizes the health report using Gemini AI.\"\"\"\n",
        "    model=genai.GenerativeModel(\"gemini-1.5-flash\")\n",
        "    prompt=f\"Summarize the following health report in a concise manner:\\n\\n{text}\"\n",
        "    response=model.generate_content(prompt)\n",
        "    return response.text\n",
        "summarized_report=summarize_health_report(extracted_text)\n",
        "print(\"Summarized Report:\\n\",summarized_report)"
      ],
      "metadata": {
        "colab": {
          "base_uri": "https://localhost:8080/",
          "height": 332
        },
        "id": "Hk1SUE0mj11i",
        "outputId": "344403a4-e925-4e4e-d443-fb856f8e959e"
      },
      "execution_count": 5,
      "outputs": [
        {
          "output_type": "stream",
          "name": "stdout",
          "text": [
            "Summarized Report:\n",
            " Mr. Kishan Goud's (MR2100003157) lab results from 01/02/2021 show:\n",
            "\n",
            "* **Widal Test:** Elevated titers for *Salmonella Typhi* \"O\" (1:160) and \"H\" (1:80), suggestive of prior or current typhoid infection.  *Salmonella Paratyphi* \"AH\" and \"BH\" were within normal range.\n",
            "* **Dengue Serology:** Negative for NS1 antigen, IgG, and IgM.\n",
            "* **ESR:** Elevated (26 mm/hr, 52 mm/hr), indicating inflammation.\n",
            "* **Malaria Test:** Negative for *Plasmodium falciparum* and *Plasmodium vivax*.\n",
            "* **Complete Blood Picture:**  Hemoglobin, RBC, WBC, and platelets within normal limits;  differential count unremarkable.\n",
            "* **HbA1c:** 5.4% (within normal non-diabetic range).\n",
            "* **Serum Creatinine:** 0.8 mg/dl (within normal range).\n",
            "* **Random Blood Glucose:**  Result missing from provided text.\n",
            "* **Liver Function Test:** All values within normal ranges.\n",
            "* **Serum Electrolytes:** Sodium slightly low (122 mmol/l), potassium and chloride within normal ranges.\n",
            "\n",
            "\n",
            "**Note:**  The slightly low sodium level and elevated ESR warrant further investigation by the attending physician.  The elevated typhoid antibodies suggest past exposure,  but whether it's clinically significant requires clinical correlation.\n",
            "\n"
          ]
        }
      ]
    },
    {
      "cell_type": "code",
      "source": [
        "def detect_abnormalities(text):\n",
        "  \"\"\"Analyzes lab test results and flags any abnormal values.\"\"\"\n",
        "  model=genai.GenerativeModel(\"gemini-1.5-flash\")\n",
        "  prompt=f\"Analyze the lab test results in the following health report and highlight any abnormal values:\\n\\n{text}\"\n",
        "  response=model.generate_content(prompt)\n",
        "  return response.text\n",
        "abnormalities=detect_abnormalities(extracted_text)\n",
        "print(\"Abnormal Values:\\n\",abnormalities)"
      ],
      "metadata": {
        "colab": {
          "base_uri": "https://localhost:8080/",
          "height": 384
        },
        "id": "YIpJgedwmLSt",
        "outputId": "13015c3e-4484-480b-8d35-17c622aa902c"
      },
      "execution_count": 6,
      "outputs": [
        {
          "output_type": "stream",
          "name": "stdout",
          "text": [
            "Abnormal Values:\n",
            " Based on the provided lab results, the following values are outside the reference ranges, indicating potential abnormalities:\n",
            "\n",
            "* **Widal Test:**  S. Typhi \"O\" (1:160) and S. Typhi \"H\" (1:80) are significantly elevated above the reference range of 1:20. This suggests a possible past or present infection with *Salmonella Typhi*, the bacteria that causes typhoid fever.  The higher \"O\" titre usually indicates a more recent infection than a high \"H\" titre.  Further investigation would be needed to confirm active infection.\n",
            "\n",
            "* **ESR (Erythrocyte Sedimentation Rate):** Both the 1st hour (26 mm/hr) and 2nd hour (52 mm/hr) values are significantly elevated above the normal range (0-8 mm/hr for the first hour).  Elevated ESR is a non-specific indicator of inflammation or infection in the body.\n",
            "\n",
            "\n",
            "* **Serum Sodium:** 122 mmol/l is below the reference range of 135-146 mmol/l. This indicates hyponatremia (low sodium levels in the blood), which can have various causes and requires further investigation.\n",
            "\n",
            "\n",
            "* **Serum Chloride:** 97 mmol/l is below the reference range of 98-107 mmol/l. This is mild hypochloremia (low chloride levels).  The significance depends on other factors, particularly given the hyponatremia.\n",
            "\n",
            "**Values that are within the reference range but might warrant monitoring depending on the clinical picture:**\n",
            "\n",
            "* **Lymphocytes:** 31% is at the higher end of the normal range (20-40%).  While not abnormal, this could be contextually relevant with the other findings.\n",
            "\n",
            "\n",
            "**Important Note:**  This analysis is based solely on the lab results provided.  It is crucial to interpret these findings in conjunction with the patient's clinical presentation, symptoms, medical history, and other relevant information by a qualified healthcare professional.  The elevated Widal test titres and ESR, coupled with low serum sodium and chloride levels, suggest a need for further investigation to determine the underlying cause of the patient's condition.  The slightly high lymphocyte count may also be a part of the inflammatory response.\n",
            "\n"
          ]
        }
      ]
    },
    {
      "cell_type": "code",
      "source": [
        "def explain_medical_terms(text):\n",
        "  \"\"\"Asks Gemini AI to simplify medical terms for patient understanding.\"\"\"\n",
        "  model=genai.GenerativeModel(\"gemini-1.5-flash\")\n",
        "  prompt=f\"Explain the following medical terms in a simplified manner:\\n\\n{text}\"\n",
        "  response=model.generate_content(prompt)\n",
        "  return response.text\n",
        "simplified_terms=explain_medical_terms(extracted_text)\n",
        "print(\"Simplified Terms:\\n\",simplified_terms)"
      ],
      "metadata": {
        "colab": {
          "base_uri": "https://localhost:8080/",
          "height": 1000
        },
        "id": "nqbuTT0IoW0D",
        "outputId": "48c75d3e-ab10-41a7-bde4-34ef912422d0"
      },
      "execution_count": 7,
      "outputs": [
        {
          "output_type": "stream",
          "name": "stdout",
          "text": [
            "Simplified Terms:\n",
            " This report shows the results of various blood tests performed on Mr. Kishan Goud. Let's break down each section:\n",
            "\n",
            "**1. Widal Test (for Typhoid):**\n",
            "\n",
            "* **S. Typhi \"O\" 1:160:** This tests for antibodies against *Salmonella Typhi* (the bacteria that causes typhoid fever).  \"O\" refers to a specific type of antigen on the bacteria.  1:160 is the dilution at which the antibodies were detected.  A higher number generally indicates a greater likelihood of a recent typhoid infection, but interpretation requires clinical context.  The reference range (1:20) indicates that a result above this suggests possible infection.\n",
            "\n",
            "* **S. Typhi \"H\" 1:80:** Similar to above, but \"H\" represents a different antigen on the *Salmonella Typhi* bacteria. Again, 1:80 is higher than the reference range (1:20) suggesting possible infection.\n",
            "\n",
            "* **S. Paratyphi \"AH\" 1:20:** Tests for antibodies against *Salmonella Paratyphi* A, another bacteria causing a typhoid-like illness.  The result is within the normal range (1:20).\n",
            "\n",
            "* **S. Paratyphi \"BH\" 1:20:** Tests for antibodies against *Salmonella Paratyphi* B. The result is within the normal range.\n",
            "\n",
            "\n",
            "**2. Dengue Serology:**\n",
            "\n",
            "* **Dengue NS1 Antigen:** Negative. This tests for a protein produced by the dengue virus. A negative result means the test didn't detect the virus.\n",
            "\n",
            "* **Dengue IgG:** Negative.  This tests for antibodies that your body produces *after* recovering from a dengue infection (indicating prior exposure). A negative result suggests no past infection.\n",
            "\n",
            "* **Dengue IgM:** Negative.  This tests for antibodies that your body produces *during* an acute dengue infection. A negative result suggests no current dengue infection.\n",
            "\n",
            "\n",
            "**3. Erythrocyte Sedimentation Rate (ESR):**\n",
            "\n",
            "* **ESR 1st Hour 26 mm/hr:** Measures how quickly red blood cells settle in a test tube.  A higher rate can indicate inflammation or infection.  26 mm/hr is higher than the normal range (0-8 mm/hr), indicating possible inflammation.\n",
            "\n",
            "* **ESR 2nd Hour 52 mm/hr:**  Further elevated ESR, reinforcing the possibility of inflammation.\n",
            "\n",
            "\n",
            "**4. Rapid Malaria Test:**\n",
            "\n",
            "* **Rapid Malaria Test P.V Negative:** Negative for *Plasmodium vivax*, a type of malaria parasite.\n",
            "\n",
            "* **Rapid Malaria Test P.F Negative:** Negative for *Plasmodium falciparum*, another type of malaria parasite, often the most dangerous.\n",
            "\n",
            "\n",
            "**5. Complete Blood Picture (CBC):**\n",
            "\n",
            "This provides information about different components of the blood:\n",
            "\n",
            "* **Hemoglobin (Hb):** 13.6 gms% (within the normal range of 13-17).  Measures the oxygen-carrying capacity of red blood cells.\n",
            "\n",
            "* **Red Blood Cells (RBC):** 4.3 mill/cumm (slightly below the normal range of 4.5-5.5).\n",
            "\n",
            "* **White Blood Cells (WBC):** 7,200 cells/cumm (within the normal range of 4000-10000).  Fight infection.\n",
            "\n",
            "* **Platelets:** 2.0 lakhs/cumm (within the normal range of 1.5-4.5).  Important for blood clotting.\n",
            "\n",
            "* **Packed Cell Volume (PCV):** 40.5% (within the normal range of 40-50).  Percentage of red blood cells in the blood.\n",
            "\n",
            "* **Differential Count:** Shows the percentages of different types of white blood cells (all within normal ranges).\n",
            "\n",
            "* **Peripheral Blood Smear:**  A microscopic examination of the blood, which showed normal red blood cells, white blood cells within normal limits, and adequate platelets.\n",
            "\n",
            "\n",
            "**6. HbA1c:**\n",
            "\n",
            "* **HbA1c 5.4%:** Measures average blood glucose levels over the past 2-3 months.  5.4% falls within the normal, non-diabetic range (4-6%).\n",
            "\n",
            "\n",
            "**7. Serum Creatinine:**\n",
            "\n",
            "* **Serum Creatinine 0.8 mg/dl:** Measures kidney function. 0.8 mg/dl is within the normal range (0.6-1.25 mg/dl).\n",
            "\n",
            "\n",
            "**8. Random Blood Glucose:**\n",
            "\n",
            "* **Random Blood Glucose:**  Measures blood glucose at a random time.  The result is missing from this report.\n",
            "\n",
            "\n",
            "**9. Liver Function Test (LFT):**\n",
            "\n",
            "* **Various liver enzymes (bilirubin, alkaline phosphatase, SGOT, SGPT, total protein, albumin, globulin, A/G ratio):** All values are within normal ranges, indicating normal liver function.\n",
            "\n",
            "\n",
            "**10. Serum Electrolytes:**\n",
            "\n",
            "* **Serum Sodium, Potassium, and Chloride:**  These are all essential electrolytes crucial for various bodily functions. Values for sodium and chloride are slightly low, while potassium is within normal range.  Clinically significant electrolyte abnormalities would be reflected by a larger deviation from the reference ranges.\n",
            "\n",
            "\n",
            "**Overall Interpretation:**\n",
            "\n",
            "The results show some abnormalities (elevated ESR, slightly low RBC and some electrolytes), but none are dramatically outside of normal ranges.  The positive Widal test results (for *Salmonella Typhi*) and slightly elevated ESR suggest a *possible* recent infection, but further clinical evaluation and correlation with symptoms are necessary for a definitive diagnosis. The results do not point toward a conclusive diagnosis of typhoid, dengue, or malaria. A physician should interpret these results in the context of the patient's medical history, symptoms, and physical examination.\n",
            "\n"
          ]
        }
      ]
    },
    {
      "cell_type": "code",
      "source": [
        "def ask_gemini_about_robot(text,question):\n",
        "  \"\"\"Allows users to ask questions about their health report.\"\"\"\n",
        "  model=genai.GenerativeModel(\"gemini-1.5-flash\")\n",
        "  prompt=f\"Answer the following question about the health report:\\n\\n{question}\\n\\n{text}\"\n",
        "  response=model.generate_content(prompt)\n",
        "  return response.text\n",
        "question=\"What is the patient's diagnosis?\"\n",
        "answer=ask_gemini_about_robot(extracted_text,question)\n",
        "print(\"Answer:\\n\",answer)"
      ],
      "metadata": {
        "colab": {
          "base_uri": "https://localhost:8080/",
          "height": 89
        },
        "id": "9tB15RNZp2ZB",
        "outputId": "d82df8f1-891d-4c3f-b34f-97c1dec82333"
      },
      "execution_count": 8,
      "outputs": [
        {
          "output_type": "stream",
          "name": "stdout",
          "text": [
            "Answer:\n",
            " The report shows elevated titers for *Salmonella Typhi* (\"O\" 1:160 and \"H\" 1:80), suggesting a past or current infection with typhoid fever.  However,  it's crucial to note that Widal test results alone are not definitive for diagnosing typhoid fever and should be interpreted in conjunction with clinical symptoms and other diagnostic tests. The other tests performed were negative (Dengue, Malaria) and the blood work was largely normal.  Therefore, while the elevated *Salmonella Typhi* titers are suggestive, a definitive diagnosis of typhoid fever cannot be made from this report alone.\n",
            "\n"
          ]
        }
      ]
    },
    {
      "cell_type": "code",
      "source": [],
      "metadata": {
        "id": "gdI7MhOWrUjP"
      },
      "execution_count": null,
      "outputs": []
    }
  ]
}