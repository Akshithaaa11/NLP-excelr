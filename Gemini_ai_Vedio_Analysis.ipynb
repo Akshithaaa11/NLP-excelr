{
  "nbformat": 4,
  "nbformat_minor": 0,
  "metadata": {
    "colab": {
      "provenance": [],
      "authorship_tag": "ABX9TyMj/IL2ZYjFso8M6lQNB2hu",
      "include_colab_link": true
    },
    "kernelspec": {
      "name": "python3",
      "display_name": "Python 3"
    },
    "language_info": {
      "name": "python"
    }
  },
  "cells": [
    {
      "cell_type": "markdown",
      "metadata": {
        "id": "view-in-github",
        "colab_type": "text"
      },
      "source": [
        "<a href=\"https://colab.research.google.com/github/Akshithaaa11/NLP-excelr/blob/main/Gemini_ai_Vedio_Analysis.ipynb\" target=\"_parent\"><img src=\"https://colab.research.google.com/assets/colab-badge.svg\" alt=\"Open In Colab\"/></a>"
      ]
    },
    {
      "cell_type": "code",
      "execution_count": 1,
      "metadata": {
        "colab": {
          "base_uri": "https://localhost:8080/"
        },
        "id": "D5aAHJtryOvQ",
        "outputId": "9da2c267-0304-4798-d686-1837c948179e"
      },
      "outputs": [
        {
          "output_type": "stream",
          "name": "stdout",
          "text": [
            "Collecting youtube-transcript-api\n",
            "  Downloading youtube_transcript_api-1.0.1-py3-none-any.whl.metadata (22 kB)\n",
            "Collecting pytube\n",
            "  Downloading pytube-15.0.0-py3-none-any.whl.metadata (5.0 kB)\n",
            "Requirement already satisfied: defusedxml<0.8.0,>=0.7.1 in /usr/local/lib/python3.11/dist-packages (from youtube-transcript-api) (0.7.1)\n",
            "Requirement already satisfied: requests in /usr/local/lib/python3.11/dist-packages (from youtube-transcript-api) (2.32.3)\n",
            "Requirement already satisfied: charset-normalizer<4,>=2 in /usr/local/lib/python3.11/dist-packages (from requests->youtube-transcript-api) (3.4.1)\n",
            "Requirement already satisfied: idna<4,>=2.5 in /usr/local/lib/python3.11/dist-packages (from requests->youtube-transcript-api) (3.10)\n",
            "Requirement already satisfied: urllib3<3,>=1.21.1 in /usr/local/lib/python3.11/dist-packages (from requests->youtube-transcript-api) (2.3.0)\n",
            "Requirement already satisfied: certifi>=2017.4.17 in /usr/local/lib/python3.11/dist-packages (from requests->youtube-transcript-api) (2025.1.31)\n",
            "Downloading youtube_transcript_api-1.0.1-py3-none-any.whl (1.9 MB)\n",
            "\u001b[2K   \u001b[90m━━━━━━━━━━━━━━━━━━━━━━━━━━━━━━━━━━━━━━━━\u001b[0m \u001b[32m1.9/1.9 MB\u001b[0m \u001b[31m27.6 MB/s\u001b[0m eta \u001b[36m0:00:00\u001b[0m\n",
            "\u001b[?25hDownloading pytube-15.0.0-py3-none-any.whl (57 kB)\n",
            "\u001b[2K   \u001b[90m━━━━━━━━━━━━━━━━━━━━━━━━━━━━━━━━━━━━━━━━\u001b[0m \u001b[32m57.6/57.6 kB\u001b[0m \u001b[31m3.5 MB/s\u001b[0m eta \u001b[36m0:00:00\u001b[0m\n",
            "\u001b[?25hInstalling collected packages: pytube, youtube-transcript-api\n",
            "Successfully installed pytube-15.0.0 youtube-transcript-api-1.0.1\n"
          ]
        }
      ],
      "source": [
        "pip install youtube-transcript-api pytube"
      ]
    },
    {
      "cell_type": "code",
      "source": [
        "from youtube_transcript_api import YouTubeTranscriptApi\n",
        "def get_youtube_transcript(video_url):\n",
        "    \"\"\"Fetches the transcript for a given YouTube video URL.\"\"\"\n",
        "    video_id = video_url.split('v=')[1].split('&')[0]\n",
        "    transcript = YouTubeTranscriptApi.get_transcript(video_id)\n",
        "    full_text=' '.join([item['text'] for item in transcript])\n",
        "    return full_text\n",
        "vedio_url=\"https://www.youtube.com/watch?v=unYDoA8QGH0&list=PLWEpztHwA4ZT2QlHC74oIz4MsawcvE-QX\"\n",
        "vedio_transcript=get_youtube_transcript(vedio_url)\n",
        "print(\"Transcript:\\n\",vedio_transcript[:500])"
      ],
      "metadata": {
        "colab": {
          "base_uri": "https://localhost:8080/"
        },
        "id": "4qg0pj_dymGK",
        "outputId": "393e23e6-7089-4b8c-ecf1-993d5bd763c9"
      },
      "execution_count": 3,
      "outputs": [
        {
          "output_type": "stream",
          "name": "stdout",
          "text": [
            "Transcript:\n",
            " hi guys today I'm going to introduce you what is machine learning uh these are my presentation content what is machine learning what are the different applications of machine learning different types of machine learning and how to build a machine learning system or model then various kinds of algorithms and later on in this series we are going to take a Hands-On you know case studies or doing programming for various kinds of up algorithms so what is machine learning so machine learning is nothin\n"
          ]
        }
      ]
    },
    {
      "cell_type": "code",
      "source": [
        "from google.colab import userdata\n",
        "import google.generativeai as genai\n",
        "\n",
        "GOOGLE_API_KEY = userdata.get('GOOGLE_API_KEY')\n",
        "genai.configure(api_key=GOOGLE_API_KEY)"
      ],
      "metadata": {
        "id": "eOahRQ7C1OBz"
      },
      "execution_count": 7,
      "outputs": []
    },
    {
      "cell_type": "code",
      "source": [
        "def summarize_vedio(text):\n",
        "  \"\"\"Summarizes the Youtube vedio transcript using Gemini AI\"\"\"\n",
        "  model=genai.GenerativeModel(\"gemini-1.5-flash\")\n",
        "  prompt=f\"Summarize the following Youtube video transcript:\\n\\n{text}\"\n",
        "  response=model.generate_content(prompt)\n",
        "  return response.text\n",
        "summary=summarize_vedio(vedio_transcript)\n",
        "print(\"Summary:\\n\",summary)"
      ],
      "metadata": {
        "colab": {
          "base_uri": "https://localhost:8080/",
          "height": 89
        },
        "id": "IKps2HgzzioW",
        "outputId": "9f734e26-7365-476c-f8f5-a238e9e081a9"
      },
      "execution_count": 10,
      "outputs": [
        {
          "output_type": "stream",
          "name": "stdout",
          "text": [
            "Summary:\n",
            " This YouTube video provides an introduction to machine learning.  The presenter covers the definition of machine learning (learning from data to make predictions), its various applications (speech recognition, web search, recommendation systems, computer vision, fraud detection, information retrieval), and the three main types: supervised (data is labeled, predicting known outcomes), unsupervised (data is unlabeled, exploring data structure), and reinforcement learning (an agent learns through continuous interaction and feedback).  The video details supervised learning sub-types (classification for categorical data, regression for continuous data), and unsupervised learning techniques like clustering and dimensionality reduction.  The presenter also outlines the process of building a machine learning model, including data preprocessing (cleaning, scaling, encoding, feature selection), algorithm selection, model building, and evaluation.  Finally, the video promises future sessions with hands-on case studies and algorithm implementation.\n",
            "\n"
          ]
        }
      ]
    },
    {
      "cell_type": "code",
      "source": [
        "def extract_vedio_insights(text):\n",
        "  \"\"\"Extracts key insights from Youtube vedio transcript.\"\"\"\n",
        "  model=genai.GenerativeModel(\"gemini-1.5-flash\")\n",
        "  prompt=f\"Extract the key takeaways and insights from this Youtube vedio:\\n\\n{text}\"\n",
        "  response=model.generate_content(prompt)\n",
        "  return response.text\n",
        "insights=extract_vedio_insights(vedio_transcript)\n",
        "print(\"Insights:\\n\",insights)\n"
      ],
      "metadata": {
        "colab": {
          "base_uri": "https://localhost:8080/",
          "height": 922
        },
        "id": "s42FUTGb1W70",
        "outputId": "b129f3d4-85cf-401f-957b-84e33b79d2c4"
      },
      "execution_count": 11,
      "outputs": [
        {
          "output_type": "stream",
          "name": "stdout",
          "text": [
            "Insights:\n",
            " This YouTube video provides an introduction to machine learning. Here are the key takeaways and insights:\n",
            "\n",
            "**What is Machine Learning?**\n",
            "\n",
            "* **Learning from Data:** Machine learning is fundamentally about enabling computers to learn from data without explicit programming.  It's a subfield of artificial intelligence.  The data used for learning is called training data or experience.\n",
            "* **Building Predictive Models:**  Machine learning algorithms process training data to create models that can predict future outcomes or make decisions.\n",
            "* **Definitions:**  The video offers several definitions, including Arthur Samuel's classic phrasing (\"giving computers the ability to learn without being explicitly programmed\") and a more formal definition involving experience (data), task (problem), and performance improvement.\n",
            "\n",
            "**Applications of Machine Learning:**\n",
            "\n",
            "The video highlights a wide range of applications, demonstrating the breadth of machine learning's impact:\n",
            "\n",
            "* **Speech Recognition:**  Powering virtual assistants like Siri and Google Assistant.\n",
            "* **Web Search:**  Improving search engine results (e.g., using algorithms like Naive Bayes).\n",
            "* **Recommendation Systems:**  Suggesting products or content to users.\n",
            "* **Computer Vision:**  Analyzing images and videos to identify objects and understand content.\n",
            "* **Information Retrieval:**  Processing vast amounts of data to deliver relevant information (as in Google search).\n",
            "* **Fraud Detection:**  Identifying suspicious activities.\n",
            "\n",
            "**Types of Machine Learning:**\n",
            "\n",
            "The video categorizes machine learning into three main types:\n",
            "\n",
            "* **Supervised Learning:** The training data includes labeled examples (with known outcomes).  This is further divided into:\n",
            "    * **Classification:** Predicting categorical outcomes (e.g., spam/not spam).\n",
            "    * **Regression:** Predicting continuous outcomes (e.g., house prices).\n",
            "* **Unsupervised Learning:** The training data lacks labels; the goal is to discover patterns or structures in the data (e.g., clustering customers).\n",
            "* **Reinforcement Learning:** An agent learns through trial and error, receiving rewards or penalties for its actions (e.g., game playing, robotics).\n",
            "\n",
            "**Building a Machine Learning Model (Workflow):**\n",
            "\n",
            "The video outlines the typical steps in building a machine learning model:\n",
            "\n",
            "1. **Data Preprocessing:** Cleaning and preparing the data (handling missing values, scaling features, encoding categorical variables, feature selection/dimensionality reduction).\n",
            "2. **Algorithm Selection:** Choosing an appropriate algorithm based on the problem type (classification, regression, etc.) and data characteristics.\n",
            "3. **Model Training:** Applying the chosen algorithm to the training data to build the predictive model.\n",
            "4. **Model Evaluation:** Assessing the model's performance using various metrics.  The video emphasizes building multiple models and comparing their performance.\n",
            "\n",
            "**Key Terms:**\n",
            "\n",
            "The video introduces essential terminology, including:\n",
            "\n",
            "* **Features/Attributes:**  The input variables in a dataset.\n",
            "* **Target Variable/Response Variable:** The variable being predicted.\n",
            "* **Samples/Instances/Observations:** The rows in a dataset.\n",
            "* **Training Data:** The data used to train the model.\n",
            "* **Model:** The output of the machine learning algorithm.\n",
            "\n",
            "**Next Steps:**  The presenter plans to cover practical implementation of various machine learning algorithms in future videos, focusing on hands-on case studies and programming.\n",
            "\n"
          ]
        }
      ]
    },
    {
      "cell_type": "code",
      "source": [],
      "metadata": {
        "id": "9S-aOqyE2pg5"
      },
      "execution_count": null,
      "outputs": []
    }
  ]
}